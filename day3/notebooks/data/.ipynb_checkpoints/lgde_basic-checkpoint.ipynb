{
 "cells": [
  {
   "cell_type": "code",
   "execution_count": 1,
   "metadata": {},
   "outputs": [],
   "source": [
    "from pyspark.sql import SparkSession\n",
    "\n",
    "spark = SparkSession \\\n",
    "    .builder \\\n",
    "    .appName(\"Data Engineer Basic Day3\") \\\n",
    "    .config(\"spark.dataengineer.basic.day3\", \"tutorial-1\") \\\n",
    "    .getOrCreate()"
   ]
  },
  {
   "cell_type": "code",
   "execution_count": 33,
   "metadata": {},
   "outputs": [],
   "source": [
    "sc = spark.sparkContext\n",
    "account = spark.read.option(\"inferSchema\", \"true\").option(\"header\", \"true\").csv(\"tbl_account.csv\").withColumnRenamed(\"uid\", \"account_uid\")\n",
    "purchase = spark.read.option(\"inferSchema\", \"true\").option(\"header\", \"true\").csv(\"tbl_purchase.csv\").withColumnRenamed(\"uid\", \"purchase_uid\").withColumnRenamed(\"time\", \"purchase_time\")\n",
    "logs = spark.read.option(\"inferSchema\", \"true\").option(\"header\", \"true\").csv(\"log_access.csv\").withColumnRenamed(\"uid\", \"logs_uid\")"
   ]
  },
  {
   "cell_type": "code",
   "execution_count": 34,
   "metadata": {},
   "outputs": [
    {
     "name": "stdout",
     "output_type": "stream",
     "text": [
      "root\n",
      " |-- account_uid: integer (nullable = true)\n",
      " |-- uname: string (nullable = true)\n",
      "\n",
      "root\n",
      " |-- purchase_time: integer (nullable = true)\n",
      " |-- purchase_uid: integer (nullable = true)\n",
      " |-- pid: integer (nullable = true)\n",
      " |-- amount: integer (nullable = true)\n",
      " |-- description: string (nullable = true)\n",
      "\n",
      "root\n",
      " |-- time: integer (nullable = true)\n",
      " |-- logs_uid: integer (nullable = true)\n",
      " |-- logid: integer (nullable = true)\n",
      "\n"
     ]
    }
   ],
   "source": [
    "account.printSchema()\n",
    "purchase.printSchema()\n",
    "logs.printSchema()"
   ]
  },
  {
   "cell_type": "code",
   "execution_count": 35,
   "metadata": {},
   "outputs": [
    {
     "name": "stdout",
     "output_type": "stream",
     "text": [
      "+----------+-----+---+--------------------+----+------+\n",
      "|      time|logid|uid|               uname| pid|amount|\n",
      "+----------+-----+---+--------------------+----+------+\n",
      "|1603647200| 1001|  1|crabby-smalt-drag...|2000|  1000|\n",
      "|1603645200| 1000|  1|crabby-smalt-drag...|2000|  1000|\n",
      "|1603647200| 1001|  1|crabby-smalt-drag...|2000|  1000|\n",
      "|1603645200| 1000|  1|crabby-smalt-drag...|2000|  1000|\n",
      "|1603653200| 1000|  2|homely-violet-angora|2001|  5000|\n",
      "|1603650200| 1001|  2|homely-violet-angora|2001|  5000|\n",
      "|1603649200| 1000|  2|homely-violet-angora|2001|  5000|\n",
      "|1603659200| 1001|  3|queasy-amaranth-r...|2002| 10000|\n",
      "|1603657200| 1000|  3|queasy-amaranth-r...|2002| 10000|\n",
      "|1603664500| 1000|  4|   freaky-buff-frise|2003| 33000|\n",
      "|1603664200| 1001|  4|   freaky-buff-frise|2003| 33000|\n",
      "|1603660200| 1000|  4|   freaky-buff-frise|2003| 33000|\n",
      "|1603669500| 1001|  5|    gloppy-rose-loon|2004| 99000|\n",
      "|1603666500| 1000|  5|    gloppy-rose-loon|2004| 99000|\n",
      "|1603669500| 1001|  5|    gloppy-rose-loon|2004| 99000|\n",
      "|1603666500| 1000|  5|    gloppy-rose-loon|2004| 99000|\n",
      "+----------+-----+---+--------------------+----+------+\n",
      "\n"
     ]
    }
   ],
   "source": [
    "account_purchase = account[\"account_uid\"] == purchase[\"purchase_uid\"]\n",
    "accountPurchase = account.join(purchase, account_purchase)\n",
    "# accountPurchase.show()\n",
    "\n",
    "account_logs = accountPurchase[\"account_uid\"] == logs[\"logs_uid\"]\n",
    "accountPurchaseLogs = accountPurchase.join(logs, account_logs).drop(\"purchase_uid\").drop(\"logs_uid\").withColumnRenamed(\"account_uid\", \"uid\").drop(\"description\")\n",
    "accountPurchaseLogs.selectExpr(\"time\", \"logid\", \"uid\", \"uname\", \"pid\", \"amount\").show()"
   ]
  },
  {
   "cell_type": "code",
   "execution_count": 18,
   "metadata": {},
   "outputs": [
    {
     "name": "stdout",
     "output_type": "stream",
     "text": [
      "+----------+--------+-----+\n",
      "|      time|logs_uid|logid|\n",
      "+----------+--------+-----+\n",
      "|1603645200|       1| 1000|\n",
      "|1603647200|       1| 1001|\n",
      "|1603649200|       2| 1000|\n",
      "|1603650200|       2| 1001|\n",
      "|1603653200|       2| 1000|\n",
      "|1603657200|       3| 1000|\n",
      "|1603659200|       3| 1001|\n",
      "|1603660200|       4| 1000|\n",
      "|1603664200|       4| 1001|\n",
      "|1603664500|       4| 1000|\n",
      "|1603666500|       5| 1000|\n",
      "|1603669500|       5| 1001|\n",
      "|1603670500|       6| 1000|\n",
      "|1603673500|       7| 1000|\n",
      "|1603674500|       8| 1000|\n",
      "|1603675500|       9| 1000|\n",
      "+----------+--------+-----+\n",
      "\n"
     ]
    }
   ],
   "source": [
    "logs.show()"
   ]
  },
  {
   "cell_type": "code",
   "execution_count": null,
   "metadata": {},
   "outputs": [],
   "source": []
  }
 ],
 "metadata": {
  "kernelspec": {
   "display_name": "Python 3",
   "language": "python",
   "name": "python3"
  },
  "language_info": {
   "codemirror_mode": {
    "name": "ipython",
    "version": 3
   },
   "file_extension": ".py",
   "mimetype": "text/x-python",
   "name": "python",
   "nbconvert_exporter": "python",
   "pygments_lexer": "ipython3",
   "version": "3.7.8"
  }
 },
 "nbformat": 4,
 "nbformat_minor": 4
}
