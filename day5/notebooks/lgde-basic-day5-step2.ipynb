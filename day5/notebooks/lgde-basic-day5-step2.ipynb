{
 "cells": [
  {
   "cell_type": "markdown",
   "metadata": {},
   "source": [
    "# 1. 터미널을 통해 플루언트디 서버에 접속합니다\n",
    "```bash\n",
    "bash> cd ~/workspace/data-engineer-basic-training/day5\n",
    "bash> docker-compose up -d\n",
    "bash> docker-compose ps\n",
    "bash> docker-compose exec fluentd bash\n",
    "```"
   ]
  },
  {
   "cell_type": "markdown",
   "metadata": {},
   "source": [
    "### 아래의 명령어를 참고하여 <span style=\"color:red\"> [과제.1], [과제.2]</span> 를 수행하세요\n",
    "\n",
    "```bash\n",
    "# 플루언트디 기동\n",
    "$> ./fluentd.sh -c <fluent.conf>\n",
    "\n",
    "# 파일의 내용을 확인\n",
    "$> more <file-path>\n",
    "\n",
    "# 임의의 경로에 파일생성\n",
    "$> touch <output-file-path>\n",
    "\n",
    "# 임의의 파일을 읽어서 다른 파일에 추가\n",
    "$> cat <input-file-path> >> <output-file-path>\n",
    "```"
   ]
  },
  {
   "cell_type": "markdown",
   "metadata": {},
   "source": [
    "# 2. 플루언트디 설정 확인 및 기동\n",
    "\n",
    "### 2-1. 수집을 위한 /etc/fluentd/fluent.tail 내용을 확인 후, 플루언트디를 기동합니다\n",
    "```bash\n",
    "$> more /etc/fluentd/fluent.tail\n",
    "```\n",
    "\n",
    "### 2-2. 플루언트디 기동\n",
    "```bash\n",
    "$> ./fluentd.sh -c /etc/fluentd/fluent.tail\n",
    "```\n"
   ]
  },
  {
   "cell_type": "markdown",
   "metadata": {},
   "source": [
    "# 3. 가상의 서비스 접속 로그를 생성\n",
    "\n",
    "### 3-1. 별도의 터미널을 하나 더 열어 서버에 접속합니다\n",
    "```bash\n",
    "bash> docker-compose exec fluentd bash\n",
    "```\n",
    "\n",
    "### <span style=\"color:red\"> [과제.1] </span> touch 명령어를 이용하여 /tmp/source/access.csv 파일을 생성합니다\n",
    "```bash\n",
    "$> touch \"생성할파일경로\"\n",
    "```\n",
    "\n",
    "### <span style=\"color:red\"> [과제.2] </span> cat 명령어와 redirect 기호 (>>) 를 이용하여 /etc/source/fluentd/access.csv 파일을 읽어서 access.csv 파일에 추가합니다\n",
    "```bash\n",
    "$> cat \"입력파일경로\" >> \"출력파일경로\"\n",
    "```\n",
    "\n",
    "### 3-3. 정상적으로 /tmp/target/access/ 경로에 파일이 수집 되었는지 확인합니다\n",
    "```bash\n",
    "$> ls -al /tmp/target/access/\n",
    "```"
   ]
  },
  {
   "cell_type": "markdown",
   "metadata": {},
   "source": [
    "# 4. 수집이 완료되어 터미널 접속을 종료합니다\n",
    "```bash\n",
    "$> exit\n",
    "```"
   ]
  },
  {
   "cell_type": "code",
   "execution_count": null,
   "metadata": {},
   "outputs": [],
   "source": []
  }
 ],
 "metadata": {
  "kernelspec": {
   "display_name": "Python 3",
   "language": "python",
   "name": "python3"
  },
  "language_info": {
   "codemirror_mode": {
    "name": "ipython",
    "version": 3
   },
   "file_extension": ".py",
   "mimetype": "text/x-python",
   "name": "python",
   "nbconvert_exporter": "python",
   "pygments_lexer": "ipython3",
   "version": "3.7.8"
  }
 },
 "nbformat": 4,
 "nbformat_minor": 4
}
