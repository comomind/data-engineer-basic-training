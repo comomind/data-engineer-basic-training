{
 "cells": [
  {
   "cell_type": "markdown",
   "metadata": {},
   "source": [
    "# 1. 터미널을 통해 스쿱 서버에 접속합니다\n",
    "```bash\n",
    "bash> cd ~/workspace/data-engineer-basic-training/day5\n",
    "bash> docker-compose up -d\n",
    "bash> docker-compose ps\n",
    "bash> docker-compose exec sqoop bash\n",
    "```"
   ]
  },
  {
   "cell_type": "markdown",
   "metadata": {},
   "source": [
    "### Sqoop Commands Usages\n",
    "\n",
    "```bash\n",
    "$> sqoop list-databases --connect <jdbc-url> --username <username> --password <password>\n",
    "\n",
    "$> sqoop list-tables --connect <jdbc-url> --username <username> --password <password>\n",
    "\n",
    "$> sqoop import -jt local -m 1 --connect <jdbc-url> --table <table-name> --target-dir <target-dir> --username <username> --password <password> --relaxed-isolation --as-parquetfile --delete-target-dir\n",
    "\n",
    "```"
   ]
  },
  {
   "cell_type": "markdown",
   "metadata": {},
   "source": [
    "# 2. 수집을 위한 명령어를 노트북에서 작성 후 복사해서 터미널에서 수행합니다\n",
    "\n",
    "### 2-1. 데이터베이스 목록을 출력하세요\n",
    "```bash\n",
    "$> sqoop list-databases\n",
    "```\n",
    "\n",
    "### 2-2. 대상 testdb 데이터베이스 테이블 목록을 출력하세요\n",
    "```bash\n",
    "$> sqoop list-tables\n",
    "```"
   ]
  },
  {
   "cell_type": "markdown",
   "metadata": {},
   "source": [
    "# 3. Daily User Snapshot 수집을 수행합니다\n",
    "```text\n",
    "지표정의 : 지정한 일자의 이용자 정보\n",
    "지표산식 : 단순 테이블 수집 데이터 제공\n",
    "입력형태 : 원본 소스의 접속 정보는 jdbc:mysql://mysql:3306/testdb, 접속 계정과 패스워드는 sqoop, sqoop 이며, 테이블 이름은 user 입니다\n",
    "출력형태 : 저장 타깃의 포맷은 parquet 이며, 서버의 로컬 경로 /tmp/target/user/yyyyMMdd 경로에 저장하며, 아래와 같이 설계합니다\n",
    "```"
   ]
  },
  {
   "cell_type": "markdown",
   "metadata": {},
   "source": [
    "\n",
    "### 3-1. testdb.user_20201025 테이블을 file:///tmp/target/user/20201025 경로에 수집하세요 (20201026 일자도 동일하게 수집합니다)\n",
    "```bash\n",
    "$> sqoop import -jt local -m 1 \n",
    "\n",
    "```"
   ]
  },
  {
   "cell_type": "markdown",
   "metadata": {},
   "source": [
    "# 4. Daily Purchase Snapshot 수집을 수행합니다\n",
    "```text\n",
    "지표정의 : 지정한 일자의 매출 정보\n",
    "지표산식 : 단순 테이블 수집 데이터 제공\n",
    "입력형태 : 원본 소스의 접속 정보는 jdbc://mysql://mysql:3306/testdb, 접속 계정과 패스워드는 sqoop, sqoop 이며, 테이블 이름은 purchase 입니다\n",
    "출력형태 : 저장 타깃의 포맷은 parquet 이며, 서버의 로컬 경로 /tmp/target/purchase/yyyyMMdd 경로에 저장하며, 아래와 같이 설계합니다\n",
    "```"
   ]
  },
  {
   "cell_type": "markdown",
   "metadata": {},
   "source": [
    "### 4-1. testdb.purchase_20201025 테이블을 file:///tmp/target/purchase/20201025 경로에 수집하세요 (20201026 일자도 동일하게 수집합니다)\n",
    "```bash\n",
    "$> sqoop import -jt local -m 1 \n",
    "```\n"
   ]
  },
  {
   "cell_type": "markdown",
   "metadata": {},
   "source": [
    "# 5. 수집이 완료되어 터미널 접속을 종료합니다\n",
    "```bash\n",
    "$> exit\n",
    "```"
   ]
  },
  {
   "cell_type": "code",
   "execution_count": null,
   "metadata": {},
   "outputs": [],
   "source": []
  }
 ],
 "metadata": {
  "kernelspec": {
   "display_name": "Python 3",
   "language": "python",
   "name": "python3"
  },
  "language_info": {
   "codemirror_mode": {
    "name": "ipython",
    "version": 3
   },
   "file_extension": ".py",
   "mimetype": "text/x-python",
   "name": "python",
   "nbconvert_exporter": "python",
   "pygments_lexer": "ipython3",
   "version": "3.7.8"
  }
 },
 "nbformat": 4,
 "nbformat_minor": 4
}
